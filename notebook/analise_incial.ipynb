{
 "cells": [
  {
   "cell_type": "code",
   "execution_count": 53,
   "id": "bf142cf9",
   "metadata": {},
   "outputs": [],
   "source": [
    "#libs\n",
    "import pandas as pd\n",
    "import psycopg2\n",
    "import numpy as np"
   ]
  },
  {
   "cell_type": "code",
   "execution_count": 62,
   "id": "e1e17ee4",
   "metadata": {},
   "outputs": [],
   "source": [
    "##Config variables\n",
    "settings = {\n",
    "    'host': 'pg_container', #or: 172.20.0.2 IPAddress\n",
    "    'user': 'postgres',\n",
    "    'dbname': 'DataWarehouse',\n",
    "    'password': 'admin'\n",
    "}"
   ]
  },
  {
   "cell_type": "code",
   "execution_count": 63,
   "id": "d67eed36",
   "metadata": {},
   "outputs": [],
   "source": [
    "conn = psycopg2.connect(**settings)"
   ]
  },
  {
   "cell_type": "code",
   "execution_count": 64,
   "id": "9aabef88",
   "metadata": {},
   "outputs": [
    {
     "data": {
      "text/html": [
       "<div>\n",
       "<style scoped>\n",
       "    .dataframe tbody tr th:only-of-type {\n",
       "        vertical-align: middle;\n",
       "    }\n",
       "\n",
       "    .dataframe tbody tr th {\n",
       "        vertical-align: top;\n",
       "    }\n",
       "\n",
       "    .dataframe thead th {\n",
       "        text-align: right;\n",
       "    }\n",
       "</style>\n",
       "<table border=\"1\" class=\"dataframe\">\n",
       "  <thead>\n",
       "    <tr style=\"text-align: right;\">\n",
       "      <th></th>\n",
       "      <th>id</th>\n",
       "      <th>gender</th>\n",
       "      <th>age</th>\n",
       "      <th>driving_license</th>\n",
       "      <th>region_code</th>\n",
       "      <th>previously_insured</th>\n",
       "      <th>vehicle_age</th>\n",
       "      <th>vehicle_damage</th>\n",
       "      <th>annual_premium</th>\n",
       "      <th>policy_sales_channel</th>\n",
       "      <th>vintage</th>\n",
       "      <th>response</th>\n",
       "    </tr>\n",
       "  </thead>\n",
       "  <tbody>\n",
       "    <tr>\n",
       "      <th>0</th>\n",
       "      <td>1</td>\n",
       "      <td>Male</td>\n",
       "      <td>44</td>\n",
       "      <td>1</td>\n",
       "      <td>28</td>\n",
       "      <td>0</td>\n",
       "      <td>&gt; 2 Years</td>\n",
       "      <td>Yes</td>\n",
       "      <td>40454</td>\n",
       "      <td>26</td>\n",
       "      <td>217</td>\n",
       "      <td>1</td>\n",
       "    </tr>\n",
       "    <tr>\n",
       "      <th>1</th>\n",
       "      <td>2</td>\n",
       "      <td>Male</td>\n",
       "      <td>76</td>\n",
       "      <td>1</td>\n",
       "      <td>3</td>\n",
       "      <td>0</td>\n",
       "      <td>1-2 Year</td>\n",
       "      <td>No</td>\n",
       "      <td>33536</td>\n",
       "      <td>26</td>\n",
       "      <td>183</td>\n",
       "      <td>0</td>\n",
       "    </tr>\n",
       "    <tr>\n",
       "      <th>2</th>\n",
       "      <td>3</td>\n",
       "      <td>Male</td>\n",
       "      <td>47</td>\n",
       "      <td>1</td>\n",
       "      <td>28</td>\n",
       "      <td>0</td>\n",
       "      <td>&gt; 2 Years</td>\n",
       "      <td>Yes</td>\n",
       "      <td>38294</td>\n",
       "      <td>26</td>\n",
       "      <td>27</td>\n",
       "      <td>1</td>\n",
       "    </tr>\n",
       "    <tr>\n",
       "      <th>3</th>\n",
       "      <td>4</td>\n",
       "      <td>Male</td>\n",
       "      <td>21</td>\n",
       "      <td>1</td>\n",
       "      <td>11</td>\n",
       "      <td>1</td>\n",
       "      <td>&lt; 1 Year</td>\n",
       "      <td>No</td>\n",
       "      <td>28619</td>\n",
       "      <td>152</td>\n",
       "      <td>203</td>\n",
       "      <td>0</td>\n",
       "    </tr>\n",
       "    <tr>\n",
       "      <th>4</th>\n",
       "      <td>5</td>\n",
       "      <td>Female</td>\n",
       "      <td>29</td>\n",
       "      <td>1</td>\n",
       "      <td>41</td>\n",
       "      <td>1</td>\n",
       "      <td>&lt; 1 Year</td>\n",
       "      <td>No</td>\n",
       "      <td>27496</td>\n",
       "      <td>152</td>\n",
       "      <td>39</td>\n",
       "      <td>0</td>\n",
       "    </tr>\n",
       "  </tbody>\n",
       "</table>\n",
       "</div>"
      ],
      "text/plain": [
       "   id  gender  age  driving_license region_code  previously_insured  \\\n",
       "0   1    Male   44                1          28                   0   \n",
       "1   2    Male   76                1           3                   0   \n",
       "2   3    Male   47                1          28                   0   \n",
       "3   4    Male   21                1          11                   1   \n",
       "4   5  Female   29                1          41                   1   \n",
       "\n",
       "  vehicle_age vehicle_damage annual_premium policy_sales_channel vintage  \\\n",
       "0   > 2 Years            Yes          40454                   26     217   \n",
       "1    1-2 Year             No          33536                   26     183   \n",
       "2   > 2 Years            Yes          38294                   26      27   \n",
       "3    < 1 Year             No          28619                  152     203   \n",
       "4    < 1 Year             No          27496                  152      39   \n",
       "\n",
       "   response  \n",
       "0         1  \n",
       "1         0  \n",
       "2         1  \n",
       "3         0  \n",
       "4         0  "
      ]
     },
     "execution_count": 64,
     "metadata": {},
     "output_type": "execute_result"
    }
   ],
   "source": [
    "#lendo dados do data set de treino\n",
    "df = pd.read_sql(\"SELECT * FROM data_train;\", con = conn)\n",
    "\n",
    "conn.close()\n",
    "df.head()"
   ]
  },
  {
   "cell_type": "code",
   "execution_count": 50,
   "id": "0378edde",
   "metadata": {},
   "outputs": [
    {
     "data": {
      "text/plain": [
       "id                       int64\n",
       "gender                  object\n",
       "age                      int64\n",
       "driving_license          int64\n",
       "region_code             object\n",
       "previously_insured       int64\n",
       "vehicle_age             object\n",
       "vehicle_damage          object\n",
       "annual_premium          object\n",
       "policy_sales_channel    object\n",
       "vintage                 object\n",
       "response                 int64\n",
       "dtype: object"
      ]
     },
     "execution_count": 50,
     "metadata": {},
     "output_type": "execute_result"
    }
   ],
   "source": [
    "df.dtypes"
   ]
  },
  {
   "cell_type": "code",
   "execution_count": 51,
   "id": "bb789d30",
   "metadata": {},
   "outputs": [
    {
     "data": {
      "text/html": [
       "<div>\n",
       "<style scoped>\n",
       "    .dataframe tbody tr th:only-of-type {\n",
       "        vertical-align: middle;\n",
       "    }\n",
       "\n",
       "    .dataframe tbody tr th {\n",
       "        vertical-align: top;\n",
       "    }\n",
       "\n",
       "    .dataframe thead th {\n",
       "        text-align: right;\n",
       "    }\n",
       "</style>\n",
       "<table border=\"1\" class=\"dataframe\">\n",
       "  <thead>\n",
       "    <tr style=\"text-align: right;\">\n",
       "      <th></th>\n",
       "      <th>age</th>\n",
       "    </tr>\n",
       "  </thead>\n",
       "  <tbody>\n",
       "    <tr>\n",
       "      <th>count</th>\n",
       "      <td>381109.000000</td>\n",
       "    </tr>\n",
       "    <tr>\n",
       "      <th>mean</th>\n",
       "      <td>38.822584</td>\n",
       "    </tr>\n",
       "    <tr>\n",
       "      <th>std</th>\n",
       "      <td>15.511611</td>\n",
       "    </tr>\n",
       "    <tr>\n",
       "      <th>min</th>\n",
       "      <td>20.000000</td>\n",
       "    </tr>\n",
       "    <tr>\n",
       "      <th>25%</th>\n",
       "      <td>25.000000</td>\n",
       "    </tr>\n",
       "    <tr>\n",
       "      <th>50%</th>\n",
       "      <td>36.000000</td>\n",
       "    </tr>\n",
       "    <tr>\n",
       "      <th>75%</th>\n",
       "      <td>49.000000</td>\n",
       "    </tr>\n",
       "    <tr>\n",
       "      <th>max</th>\n",
       "      <td>85.000000</td>\n",
       "    </tr>\n",
       "  </tbody>\n",
       "</table>\n",
       "</div>"
      ],
      "text/plain": [
       "                 age\n",
       "count  381109.000000\n",
       "mean       38.822584\n",
       "std        15.511611\n",
       "min        20.000000\n",
       "25%        25.000000\n",
       "50%        36.000000\n",
       "75%        49.000000\n",
       "max        85.000000"
      ]
     },
     "execution_count": 51,
     "metadata": {},
     "output_type": "execute_result"
    }
   ],
   "source": [
    "df[['age']].describe()"
   ]
  },
  {
   "cell_type": "code",
   "execution_count": 52,
   "id": "1f4f51cf",
   "metadata": {},
   "outputs": [
    {
     "name": "stdout",
     "output_type": "stream",
     "text": [
      "{'1-2 Year': [1, 7, 10, 12, 13, 14, 15, 18, 19, 20, 21, 23, 24, 26, 29, 31, 32, 35, 36, 38, 39, 41, 43, 45, 47, 49, 52, 53, 54, 56, 57, 58, 60, 63, 64, 65, 66, 67, 68, 69, 70, 73, 74, 75, 76, 78, 79, 80, 82, 83, 84, 92, 93, 96, 100, 105, 107, 108, 109, 113, 115, 116, 120, 121, 122, 123, 125, 130, 135, 136, 138, 141, 143, 148, 152, 153, 155, 156, 157, 161, 162, 163, 164, 166, 168, 172, 177, 178, 179, 180, 181, 182, 183, 184, 185, 187, 188, 189, 194, 195, ...], '< 1 Year': [3, 4, 5, 6, 8, 9, 11, 16, 17, 22, 25, 27, 28, 30, 33, 34, 37, 40, 42, 44, 46, 48, 50, 51, 55, 59, 61, 71, 72, 77, 81, 85, 87, 88, 89, 90, 91, 94, 95, 98, 99, 101, 102, 103, 104, 106, 110, 112, 114, 117, 118, 119, 124, 126, 127, 128, 129, 131, 132, 133, 134, 137, 139, 140, 142, 144, 145, 146, 147, 149, 150, 151, 154, 158, 159, 160, 165, 167, 169, 170, 171, 173, 174, 175, 176, 190, 191, 192, 193, 198, 202, 204, 205, 206, 207, 208, 209, 215, 217, 218, ...], '> 2 Years': [0, 2, 62, 86, 97, 111, 186, 212, 216, 223, 224, 239, 255, 277, 283, 310, 372, 381, 382, 409, 412, 463, 465, 470, 480, 541, 559, 562, 616, 618, 621, 627, 688, 734, 748, 755, 839, 882, 911, 937, 958, 1008, 1031, 1032, 1076, 1081, 1152, 1171, 1176, 1188, 1223, 1257, 1306, 1373, 1413, 1418, 1419, 1428, 1440, 1444, 1445, 1456, 1470, 1502, 1513, 1516, 1517, 1549, 1553, 1566, 1628, 1652, 1661, 1671, 1732, 1735, 1760, 1786, 1793, 1817, 1846, 1850, 1888, 1889, 1896, 1900, 1914, 1926, 1931, 1938, 1978, 1999, 2003, 2015, 2017, 2050, 2078, 2080, 2081, 2105, ...]}\n"
     ]
    }
   ],
   "source": [
    "#https://www.tutorialspoint.com/python_pandas/python_pandas_groupby.htm\n",
    "print (df.groupby('vehicle_age').groups)"
   ]
  },
  {
   "cell_type": "code",
   "execution_count": 44,
   "id": "34d17778",
   "metadata": {},
   "outputs": [
    {
     "name": "stdout",
     "output_type": "stream",
     "text": [
      "1-2 Year\n",
      "<built-in function id>\n",
      "< 1 Year\n",
      "<built-in function id>\n",
      "> 2 Years\n",
      "<built-in function id>\n"
     ]
    }
   ],
   "source": [
    "grouped = df.groupby('vehicle_age')\n",
    "for name,group in grouped:\n",
    "   print (name)\n",
    "   print (group)"
   ]
  },
  {
   "cell_type": "code",
   "execution_count": 79,
   "id": "70ea8789",
   "metadata": {},
   "outputs": [
    {
     "name": "stdout",
     "output_type": "stream",
     "text": [
      "381109\n"
     ]
    }
   ],
   "source": [
    "total=df['id'].count()\n",
    "print(total)"
   ]
  },
  {
   "cell_type": "code",
   "execution_count": 80,
   "id": "02f3cd5a",
   "metadata": {},
   "outputs": [
    {
     "name": "stdout",
     "output_type": "stream",
     "text": [
      "46710\n"
     ]
    }
   ],
   "source": [
    "total_response=df['response'].sum()\n",
    "print(total_response)"
   ]
  },
  {
   "cell_type": "code",
   "execution_count": 84,
   "id": "1e36faf4",
   "metadata": {},
   "outputs": [
    {
     "name": "stdout",
     "output_type": "stream",
     "text": [
      "0.12256336113815208\n"
     ]
    }
   ],
   "source": [
    "perc_response=total_response/total\n",
    "print(perc_response)"
   ]
  },
  {
   "cell_type": "code",
   "execution_count": 118,
   "id": "abf945ff",
   "metadata": {},
   "outputs": [
    {
     "name": "stdout",
     "output_type": "stream",
     "text": [
      "vehicle_damage\n",
      "No     0.021023\n",
      "Yes    0.978977\n",
      "Name: response, dtype: float64\n"
     ]
    }
   ],
   "source": [
    "grouped = df.groupby('vehicle_damage')\n",
    "valor = grouped['response'].agg(np.sum)/total_response\n",
    "print(valor)"
   ]
  },
  {
   "cell_type": "code",
   "execution_count": 120,
   "id": "6dc7359a",
   "metadata": {},
   "outputs": [
    {
     "name": "stdout",
     "output_type": "stream",
     "text": [
      "gender\n",
      "Female    0.389317\n",
      "Male      0.610683\n",
      "Name: response, dtype: float64\n"
     ]
    }
   ],
   "source": [
    "grouped = df.groupby('gender')\n",
    "print (grouped['response'].agg(np.sum)/total_response)"
   ]
  },
  {
   "cell_type": "code",
   "execution_count": 119,
   "id": "91eeac6b",
   "metadata": {},
   "outputs": [
    {
     "name": "stdout",
     "output_type": "stream",
     "text": [
      "vehicle_age\n",
      "1-2 Year     0.745151\n",
      "< 1 Year     0.154185\n",
      "> 2 Years    0.100664\n",
      "Name: response, dtype: float64\n"
     ]
    }
   ],
   "source": [
    "grouped = df.groupby('vehicle_age')\n",
    "print (grouped['response'].agg(np.sum)/total_response)"
   ]
  }
 ],
 "metadata": {
  "kernelspec": {
   "display_name": "Python 3 (ipykernel)",
   "language": "python",
   "name": "python3"
  },
  "language_info": {
   "codemirror_mode": {
    "name": "ipython",
    "version": 3
   },
   "file_extension": ".py",
   "mimetype": "text/x-python",
   "name": "python",
   "nbconvert_exporter": "python",
   "pygments_lexer": "ipython3",
   "version": "3.9.7"
  }
 },
 "nbformat": 4,
 "nbformat_minor": 5
}
