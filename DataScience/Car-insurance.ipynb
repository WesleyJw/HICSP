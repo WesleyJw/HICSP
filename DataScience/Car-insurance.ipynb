{
 "cells": [
  {
   "cell_type": "markdown",
   "metadata": {},
   "source": [
    "## Health Insurance Company Provides Car Insureanse for already clients\n",
    "There are an Health Insurance company that wants to offer an aditional service to their clients, which is a Car Insurance service. And, trying to offer only for the most posible clients to aquire the service they want a platform that can predict which clients has these kind of \"perfil\""
   ]
  },
  {
   "cell_type": "code",
   "execution_count": 1,
   "metadata": {
    "ExecuteTime": {
     "end_time": "2022-03-14T21:58:21.976045Z",
     "start_time": "2022-03-14T21:58:21.950046Z"
    }
   },
   "outputs": [],
   "source": [
    "# Libraries\n",
    "import pandas as pd\n",
    "import numpy as np\n",
    "import matplotlib.pyplot as plt\n",
    "import seaborn as sns\n",
    "\n",
    "from sklearn.feature_selection import mutual_info_classif\n",
    "from sklearn.model_selection import cross_val_predict\n",
    "\n",
    "from sklearn.cluster import KMeans\n",
    "from sklearn.neighbors import KNeighborsClassifier\n",
    "from sklearn.linear_model import LogisticRegression\n",
    "from sklearn.naive_bayes import GaussianNB\n",
    "from sklearn.tree import DecisionTreeClassifier as dtc\n",
    "from xgboost import XGBClassifier as xgb\n",
    "from sklearn.ensemble import RandomForestClassifier as rfc\n",
    "from sklearn.metrics import classification_report, accuracy_score, recall_score, roc_curve, auc"
   ]
  },
  {
   "cell_type": "code",
   "execution_count": 2,
   "metadata": {
    "ExecuteTime": {
     "end_time": "2022-03-14T21:36:30.304437Z",
     "start_time": "2022-03-14T21:36:29.082573Z"
    }
   },
   "outputs": [],
   "source": [
    "# Reading the da base\n",
    "df = pd.read_csv('/Users/Caio/Documents/MeusProjetos/HICSP/dataset/train.csv', sep=',')"
   ]
  },
  {
   "cell_type": "code",
   "execution_count": 3,
   "metadata": {
    "ExecuteTime": {
     "end_time": "2022-03-14T21:36:30.462101Z",
     "start_time": "2022-03-14T21:36:30.309399Z"
    }
   },
   "outputs": [
    {
     "data": {
      "text/html": [
       "<div>\n",
       "<style scoped>\n",
       "    .dataframe tbody tr th:only-of-type {\n",
       "        vertical-align: middle;\n",
       "    }\n",
       "\n",
       "    .dataframe tbody tr th {\n",
       "        vertical-align: top;\n",
       "    }\n",
       "\n",
       "    .dataframe thead th {\n",
       "        text-align: right;\n",
       "    }\n",
       "</style>\n",
       "<table border=\"1\" class=\"dataframe\">\n",
       "  <thead>\n",
       "    <tr style=\"text-align: right;\">\n",
       "      <th></th>\n",
       "      <th>id</th>\n",
       "      <th>gender</th>\n",
       "      <th>age</th>\n",
       "      <th>driving_license</th>\n",
       "      <th>region_code</th>\n",
       "      <th>previously_insured</th>\n",
       "      <th>vehicle_age</th>\n",
       "      <th>vehicle_damage</th>\n",
       "      <th>annual_premium</th>\n",
       "      <th>policy_sales_channel</th>\n",
       "      <th>vintage</th>\n",
       "      <th>response</th>\n",
       "    </tr>\n",
       "  </thead>\n",
       "  <tbody>\n",
       "    <tr>\n",
       "      <th>0</th>\n",
       "      <td>1</td>\n",
       "      <td>Male</td>\n",
       "      <td>44</td>\n",
       "      <td>1</td>\n",
       "      <td>28</td>\n",
       "      <td>0</td>\n",
       "      <td>&gt; 2 Years</td>\n",
       "      <td>Yes</td>\n",
       "      <td>40454</td>\n",
       "      <td>26</td>\n",
       "      <td>217</td>\n",
       "      <td>1</td>\n",
       "    </tr>\n",
       "    <tr>\n",
       "      <th>1</th>\n",
       "      <td>2</td>\n",
       "      <td>Male</td>\n",
       "      <td>76</td>\n",
       "      <td>1</td>\n",
       "      <td>3</td>\n",
       "      <td>0</td>\n",
       "      <td>1-2 Year</td>\n",
       "      <td>No</td>\n",
       "      <td>33536</td>\n",
       "      <td>26</td>\n",
       "      <td>183</td>\n",
       "      <td>0</td>\n",
       "    </tr>\n",
       "    <tr>\n",
       "      <th>2</th>\n",
       "      <td>3</td>\n",
       "      <td>Male</td>\n",
       "      <td>47</td>\n",
       "      <td>1</td>\n",
       "      <td>28</td>\n",
       "      <td>0</td>\n",
       "      <td>&gt; 2 Years</td>\n",
       "      <td>Yes</td>\n",
       "      <td>38294</td>\n",
       "      <td>26</td>\n",
       "      <td>27</td>\n",
       "      <td>1</td>\n",
       "    </tr>\n",
       "    <tr>\n",
       "      <th>3</th>\n",
       "      <td>4</td>\n",
       "      <td>Male</td>\n",
       "      <td>21</td>\n",
       "      <td>1</td>\n",
       "      <td>11</td>\n",
       "      <td>1</td>\n",
       "      <td>&lt; 1 Year</td>\n",
       "      <td>No</td>\n",
       "      <td>28619</td>\n",
       "      <td>152</td>\n",
       "      <td>203</td>\n",
       "      <td>0</td>\n",
       "    </tr>\n",
       "    <tr>\n",
       "      <th>4</th>\n",
       "      <td>5</td>\n",
       "      <td>Female</td>\n",
       "      <td>29</td>\n",
       "      <td>1</td>\n",
       "      <td>41</td>\n",
       "      <td>1</td>\n",
       "      <td>&lt; 1 Year</td>\n",
       "      <td>No</td>\n",
       "      <td>27496</td>\n",
       "      <td>152</td>\n",
       "      <td>39</td>\n",
       "      <td>0</td>\n",
       "    </tr>\n",
       "  </tbody>\n",
       "</table>\n",
       "</div>"
      ],
      "text/plain": [
       "   id  gender  age  driving_license  region_code  previously_insured  \\\n",
       "0   1    Male   44                1           28                   0   \n",
       "1   2    Male   76                1            3                   0   \n",
       "2   3    Male   47                1           28                   0   \n",
       "3   4    Male   21                1           11                   1   \n",
       "4   5  Female   29                1           41                   1   \n",
       "\n",
       "  vehicle_age vehicle_damage  annual_premium  policy_sales_channel  vintage  \\\n",
       "0   > 2 Years            Yes           40454                    26      217   \n",
       "1    1-2 Year             No           33536                    26      183   \n",
       "2   > 2 Years            Yes           38294                    26       27   \n",
       "3    < 1 Year             No           28619                   152      203   \n",
       "4    < 1 Year             No           27496                   152       39   \n",
       "\n",
       "   response  \n",
       "0         1  \n",
       "1         0  \n",
       "2         1  \n",
       "3         0  \n",
       "4         0  "
      ]
     },
     "execution_count": 3,
     "metadata": {},
     "output_type": "execute_result"
    }
   ],
   "source": [
    "# Seeing the data\n",
    "df.head(5)"
   ]
  },
  {
   "cell_type": "code",
   "execution_count": 4,
   "metadata": {
    "ExecuteTime": {
     "end_time": "2022-03-14T21:36:30.790899Z",
     "start_time": "2022-03-14T21:36:30.472089Z"
    }
   },
   "outputs": [
    {
     "name": "stdout",
     "output_type": "stream",
     "text": [
      "<class 'pandas.core.frame.DataFrame'>\n",
      "RangeIndex: 381109 entries, 0 to 381108\n",
      "Data columns (total 12 columns):\n",
      " #   Column                Non-Null Count   Dtype \n",
      "---  ------                --------------   ----- \n",
      " 0   id                    381109 non-null  int64 \n",
      " 1   gender                381109 non-null  object\n",
      " 2   age                   381109 non-null  int64 \n",
      " 3   driving_license       381109 non-null  int64 \n",
      " 4   region_code           381109 non-null  int64 \n",
      " 5   previously_insured    381109 non-null  int64 \n",
      " 6   vehicle_age           381109 non-null  object\n",
      " 7   vehicle_damage        381109 non-null  object\n",
      " 8   annual_premium        381109 non-null  int64 \n",
      " 9   policy_sales_channel  381109 non-null  int64 \n",
      " 10  vintage               381109 non-null  int64 \n",
      " 11  response              381109 non-null  int64 \n",
      "dtypes: int64(9), object(3)\n",
      "memory usage: 34.9+ MB\n"
     ]
    }
   ],
   "source": [
    "# Obtaining some informations about the data\n",
    "df.info()"
   ]
  },
  {
   "cell_type": "code",
   "execution_count": 5,
   "metadata": {
    "ExecuteTime": {
     "end_time": "2022-03-14T21:36:31.295347Z",
     "start_time": "2022-03-14T21:36:30.799853Z"
    }
   },
   "outputs": [
    {
     "data": {
      "text/html": [
       "<div>\n",
       "<style scoped>\n",
       "    .dataframe tbody tr th:only-of-type {\n",
       "        vertical-align: middle;\n",
       "    }\n",
       "\n",
       "    .dataframe tbody tr th {\n",
       "        vertical-align: top;\n",
       "    }\n",
       "\n",
       "    .dataframe thead th {\n",
       "        text-align: right;\n",
       "    }\n",
       "</style>\n",
       "<table border=\"1\" class=\"dataframe\">\n",
       "  <thead>\n",
       "    <tr style=\"text-align: right;\">\n",
       "      <th></th>\n",
       "      <th>count</th>\n",
       "      <th>mean</th>\n",
       "      <th>std</th>\n",
       "      <th>min</th>\n",
       "      <th>25%</th>\n",
       "      <th>50%</th>\n",
       "      <th>75%</th>\n",
       "      <th>max</th>\n",
       "    </tr>\n",
       "  </thead>\n",
       "  <tbody>\n",
       "    <tr>\n",
       "      <th>id</th>\n",
       "      <td>381109.0</td>\n",
       "      <td>190555.000000</td>\n",
       "      <td>110016.836208</td>\n",
       "      <td>1.0</td>\n",
       "      <td>95278.0</td>\n",
       "      <td>190555.0</td>\n",
       "      <td>285832.0</td>\n",
       "      <td>381109.0</td>\n",
       "    </tr>\n",
       "    <tr>\n",
       "      <th>age</th>\n",
       "      <td>381109.0</td>\n",
       "      <td>38.822584</td>\n",
       "      <td>15.511611</td>\n",
       "      <td>20.0</td>\n",
       "      <td>25.0</td>\n",
       "      <td>36.0</td>\n",
       "      <td>49.0</td>\n",
       "      <td>85.0</td>\n",
       "    </tr>\n",
       "    <tr>\n",
       "      <th>driving_license</th>\n",
       "      <td>381109.0</td>\n",
       "      <td>0.997869</td>\n",
       "      <td>0.046110</td>\n",
       "      <td>0.0</td>\n",
       "      <td>1.0</td>\n",
       "      <td>1.0</td>\n",
       "      <td>1.0</td>\n",
       "      <td>1.0</td>\n",
       "    </tr>\n",
       "    <tr>\n",
       "      <th>region_code</th>\n",
       "      <td>381109.0</td>\n",
       "      <td>26.388807</td>\n",
       "      <td>13.229888</td>\n",
       "      <td>0.0</td>\n",
       "      <td>15.0</td>\n",
       "      <td>28.0</td>\n",
       "      <td>35.0</td>\n",
       "      <td>52.0</td>\n",
       "    </tr>\n",
       "    <tr>\n",
       "      <th>previously_insured</th>\n",
       "      <td>381109.0</td>\n",
       "      <td>0.458210</td>\n",
       "      <td>0.498251</td>\n",
       "      <td>0.0</td>\n",
       "      <td>0.0</td>\n",
       "      <td>0.0</td>\n",
       "      <td>1.0</td>\n",
       "      <td>1.0</td>\n",
       "    </tr>\n",
       "    <tr>\n",
       "      <th>annual_premium</th>\n",
       "      <td>381109.0</td>\n",
       "      <td>30564.389581</td>\n",
       "      <td>17213.155057</td>\n",
       "      <td>2630.0</td>\n",
       "      <td>24405.0</td>\n",
       "      <td>31669.0</td>\n",
       "      <td>39400.0</td>\n",
       "      <td>540165.0</td>\n",
       "    </tr>\n",
       "    <tr>\n",
       "      <th>policy_sales_channel</th>\n",
       "      <td>381109.0</td>\n",
       "      <td>112.034295</td>\n",
       "      <td>54.203995</td>\n",
       "      <td>1.0</td>\n",
       "      <td>29.0</td>\n",
       "      <td>133.0</td>\n",
       "      <td>152.0</td>\n",
       "      <td>163.0</td>\n",
       "    </tr>\n",
       "    <tr>\n",
       "      <th>vintage</th>\n",
       "      <td>381109.0</td>\n",
       "      <td>154.347397</td>\n",
       "      <td>83.671304</td>\n",
       "      <td>10.0</td>\n",
       "      <td>82.0</td>\n",
       "      <td>154.0</td>\n",
       "      <td>227.0</td>\n",
       "      <td>299.0</td>\n",
       "    </tr>\n",
       "    <tr>\n",
       "      <th>response</th>\n",
       "      <td>381109.0</td>\n",
       "      <td>0.122563</td>\n",
       "      <td>0.327936</td>\n",
       "      <td>0.0</td>\n",
       "      <td>0.0</td>\n",
       "      <td>0.0</td>\n",
       "      <td>0.0</td>\n",
       "      <td>1.0</td>\n",
       "    </tr>\n",
       "  </tbody>\n",
       "</table>\n",
       "</div>"
      ],
      "text/plain": [
       "                         count           mean            std     min      25%  \\\n",
       "id                    381109.0  190555.000000  110016.836208     1.0  95278.0   \n",
       "age                   381109.0      38.822584      15.511611    20.0     25.0   \n",
       "driving_license       381109.0       0.997869       0.046110     0.0      1.0   \n",
       "region_code           381109.0      26.388807      13.229888     0.0     15.0   \n",
       "previously_insured    381109.0       0.458210       0.498251     0.0      0.0   \n",
       "annual_premium        381109.0   30564.389581   17213.155057  2630.0  24405.0   \n",
       "policy_sales_channel  381109.0     112.034295      54.203995     1.0     29.0   \n",
       "vintage               381109.0     154.347397      83.671304    10.0     82.0   \n",
       "response              381109.0       0.122563       0.327936     0.0      0.0   \n",
       "\n",
       "                           50%       75%       max  \n",
       "id                    190555.0  285832.0  381109.0  \n",
       "age                       36.0      49.0      85.0  \n",
       "driving_license            1.0       1.0       1.0  \n",
       "region_code               28.0      35.0      52.0  \n",
       "previously_insured         0.0       1.0       1.0  \n",
       "annual_premium         31669.0   39400.0  540165.0  \n",
       "policy_sales_channel     133.0     152.0     163.0  \n",
       "vintage                  154.0     227.0     299.0  \n",
       "response                   0.0       0.0       1.0  "
      ]
     },
     "execution_count": 5,
     "metadata": {},
     "output_type": "execute_result"
    }
   ],
   "source": [
    "# initial information of the data\n",
    "df.describe().T"
   ]
  },
  {
   "cell_type": "code",
   "execution_count": 6,
   "metadata": {
    "ExecuteTime": {
     "end_time": "2022-03-14T21:36:31.405385Z",
     "start_time": "2022-03-14T21:36:31.299349Z"
    }
   },
   "outputs": [
    {
     "data": {
      "text/plain": [
       "id                      0\n",
       "gender                  0\n",
       "age                     0\n",
       "driving_license         0\n",
       "region_code             0\n",
       "previously_insured      0\n",
       "vehicle_age             0\n",
       "vehicle_damage          0\n",
       "annual_premium          0\n",
       "policy_sales_channel    0\n",
       "vintage                 0\n",
       "response                0\n",
       "dtype: int64"
      ]
     },
     "execution_count": 6,
     "metadata": {},
     "output_type": "execute_result"
    }
   ],
   "source": [
    "# Searching for null values\n",
    "df.isnull().sum()"
   ]
  },
  {
   "cell_type": "code",
   "execution_count": 7,
   "metadata": {
    "ExecuteTime": {
     "end_time": "2022-03-14T21:36:31.545892Z",
     "start_time": "2022-03-14T21:36:31.409342Z"
    }
   },
   "outputs": [],
   "source": [
    "# dropping the 'id' column, his informations are not important for the development of models\n",
    "df = df.drop(columns = 'id')"
   ]
  },
  {
   "cell_type": "code",
   "execution_count": 8,
   "metadata": {
    "ExecuteTime": {
     "end_time": "2022-03-14T21:36:32.049991Z",
     "start_time": "2022-03-14T21:36:31.553897Z"
    }
   },
   "outputs": [
    {
     "data": {
      "text/plain": [
       "269"
      ]
     },
     "execution_count": 8,
     "metadata": {},
     "output_type": "execute_result"
    }
   ],
   "source": [
    "# checking duplicated data\n",
    "df.duplicated().sum()"
   ]
  },
  {
   "cell_type": "code",
   "execution_count": 9,
   "metadata": {
    "ExecuteTime": {
     "end_time": "2022-03-14T21:36:32.127988Z",
     "start_time": "2022-03-14T21:36:32.056992Z"
    }
   },
   "outputs": [
    {
     "data": {
      "text/plain": [
       "array(['> 2 Years', '1-2 Year', '< 1 Year'], dtype=object)"
      ]
     },
     "execution_count": 9,
     "metadata": {},
     "output_type": "execute_result"
    }
   ],
   "source": [
    "# about column Vehicle_Age, checking it content for preprocessing\n",
    "df.vehicle_age.unique()"
   ]
  },
  {
   "cell_type": "code",
   "execution_count": 10,
   "metadata": {
    "ExecuteTime": {
     "end_time": "2022-03-14T21:36:32.317997Z",
     "start_time": "2022-03-14T21:36:32.132994Z"
    }
   },
   "outputs": [],
   "source": [
    "# Applying an OneHotEncoder into some columns that presents string content\n",
    "df['vehicle_age'] = df['vehicle_age'].map({'< 1 Year':0, '1-2 Year':1, '> 2 Years':2}).astype(int)"
   ]
  },
  {
   "cell_type": "code",
   "execution_count": 11,
   "metadata": {
    "ExecuteTime": {
     "end_time": "2022-03-14T21:36:32.461999Z",
     "start_time": "2022-03-14T21:36:32.321989Z"
    }
   },
   "outputs": [],
   "source": [
    "df['gender'] = df['gender'].map({'Male':0, 'Female':1}).astype(int)"
   ]
  },
  {
   "cell_type": "code",
   "execution_count": 12,
   "metadata": {
    "ExecuteTime": {
     "end_time": "2022-03-14T21:36:32.979877Z",
     "start_time": "2022-03-14T21:36:32.468993Z"
    }
   },
   "outputs": [],
   "source": [
    "df['vehicle_damage'] = df['vehicle_damage'].map({'No':0, 'Yes':1}).astype(int)"
   ]
  },
  {
   "cell_type": "code",
   "execution_count": 13,
   "metadata": {
    "ExecuteTime": {
     "end_time": "2022-03-14T22:04:51.985556Z",
     "start_time": "2022-03-14T22:04:50.372564Z"
    }
   },
   "outputs": [
    {
     "data": {
      "text/plain": [
       "<matplotlib.axes._subplots.AxesSubplot at 0x24a4f6b63a0>"
      ]
     },
     "execution_count": 13,
     "metadata": {},
     "output_type": "execute_result"
    },
    {
     "data": {
      "image/png": "[encoded data removed]",
      "text/plain": [
       "<Figure size 864x576 with 2 Axes>"
      ]
     },
     "metadata": {
      "needs_background": "light"
     },
     "output_type": "display_data"
    }
   ],
   "source": [
    "# correlation visualization of the data\n",
    "plt.figure(figsize=((12,8)))\n",
    "sns.heatmap(df.corr(), cmap='Spectral', annot=True)"
   ]
  },
  {
   "cell_type": "code",
   "execution_count": 14,
   "metadata": {
    "ExecuteTime": {
     "end_time": "2022-03-14T21:36:33.850876Z",
     "start_time": "2022-03-14T21:36:33.806879Z"
    }
   },
   "outputs": [],
   "source": [
    "# Preparação para análise de informações mutuas\n",
    "x = df.drop(columns='response')\n",
    "y = df['response']"
   ]
  },
  {
   "cell_type": "code",
   "execution_count": 15,
   "metadata": {
    "ExecuteTime": {
     "end_time": "2022-03-14T21:36:33.945216Z",
     "start_time": "2022-03-14T21:36:33.854876Z"
    }
   },
   "outputs": [],
   "source": [
    "def make_mi_score(x, y):\n",
    "    \"\"\"Applycation of Mutual Information on a dataset\n",
    "    \n",
    "    Args:\n",
    "        x: Data that Mutual Information will be applyed.\n",
    "        y: Data used as 'reference' for the Mutual Information.\n",
    "    \n",
    "    \"\"\"\n",
    "    mi_score = mutual_info_classif(x, y, discrete_features='auto')\n",
    "    mi_score = pd.Series(mi_score, index=x.columns)\n",
    "    mi_score = mi_score.sort_values(ascending=False)\n",
    "    return mi_score"
   ]
  },
  {
   "cell_type": "code",
   "execution_count": 16,
   "metadata": {
    "ExecuteTime": {
     "end_time": "2022-03-14T21:38:22.492252Z",
     "start_time": "2022-03-14T21:36:33.950171Z"
    }
   },
   "outputs": [
    {
     "data": {
      "text/plain": [
       "previously_insured      0.098445\n",
       "vehicle_damage          0.093529\n",
       "driving_license         0.074881\n",
       "policy_sales_channel    0.058706\n",
       "vehicle_age             0.043741\n",
       "age                     0.031976\n",
       "gender                  0.018208\n",
       "region_code             0.014242\n",
       "annual_premium          0.002984\n",
       "vintage                 0.000000\n",
       "dtype: float64"
      ]
     },
     "execution_count": 16,
     "metadata": {},
     "output_type": "execute_result"
    }
   ],
   "source": [
    "# Applying the Mutual Information of the data set.\n",
    "mi_scores = make_mi_score(x, y)\n",
    "mi_scores"
   ]
  },
  {
   "cell_type": "code",
   "execution_count": 17,
   "metadata": {
    "ExecuteTime": {
     "end_time": "2022-03-14T21:38:22.540249Z",
     "start_time": "2022-03-14T21:38:22.497251Z"
    }
   },
   "outputs": [
    {
     "data": {
      "text/plain": [
       "(381109, 8)"
      ]
     },
     "execution_count": 17,
     "metadata": {},
     "output_type": "execute_result"
    }
   ],
   "source": [
    "# Obtaining the data with a Mutual Information greater them 0.01\n",
    "x1 = x.loc[:, mi_scores > 0.01]\n",
    "x1.shape"
   ]
  },
  {
   "cell_type": "markdown",
   "metadata": {},
   "source": [
    "### Development of some models for client prediction\n",
    "The classification models that will be used in here are: Logistic Regression, KNN, K-Means, Naive-Bayes, Decision Tree and Random Forest. The methods will be compred between them, also the data sets with and without mutual information higher scores.\n",
    "\n",
    "Each models will have the metrics accuracy and recall values stored in variables for future comparison, this will help to see the changes between models and wich one can be the best for this classification."
   ]
  },
  {
   "cell_type": "markdown",
   "metadata": {},
   "source": [
    "#### Developin the models with the dataset without Mutual Information."
   ]
  },
  {
   "cell_type": "code",
   "execution_count": 18,
   "metadata": {},
   "outputs": [],
   "source": [
    "def data_extrac(pred, name, models, acc, rec, y):\n",
    "    \"\"\" Extract info from cross_val_predict\n",
    "    \n",
    "    Args:\n",
    "        pred: Prediction data from cross validation prediction\n",
    "        name: Model name\n",
    "        models: list that stores the model's name\n",
    "        acc: list that stores the model's accuracy\n",
    "        rec: list that stores the model's recall\n",
    "        y: array used to validate the model\n",
    "    \"\"\"\n",
    "    models.append(name)\n",
    "    acc.append(accuracy_score(y, pred))\n",
    "    rec.append(recall_score(y, pred))\n",
    "    print('Classification report: \\n', classification_report(y, pred))"
   ]
  },
  {
   "cell_type": "code",
   "execution_count": 19,
   "metadata": {},
   "outputs": [],
   "source": [
    "def roc_calc_curve(pred, y, name):\n",
    "\n",
    "    '''\n",
    "    Compute ROC curve and ROC area for each class and generates the figure with the curve.\n",
    "\n",
    "    Args:\n",
    "        pred: prediction data from cross validation prediction\n",
    "        y: array used to validate the model\n",
    "        name: model name (str)\n",
    "    \n",
    "    '''\n",
    "    fpr, tpr, _ = roc_curve(y, pred)\n",
    "    #roc_auc = auc(fpr, tpr)\n",
    "\n",
    "    '''# Compute micro-average ROC curve and ROC area - Achar um jeito de isso funcionar***\n",
    "    fpr[\"micro\"], tpr[\"micro\"], _ = roc_curve(y.ravel(), pred_lr.ravel())\n",
    "    roc_auc[\"micro\"] = auc(fpr[\"micro\"], tpr[\"micro\"])'''\n",
    "\n",
    "    plt.plot(fpr, tpr, color='red', label=name)\n",
    "    plt.plot([0, 1], [0, 1], color='green', linestyle='--')\n",
    "    plt.xlabel('False Positive Rate')\n",
    "    plt.ylabel('True Positive Rate')\n",
    "    plt.title('ROC Curve')\n",
    "    plt.legend()\n",
    "    plt.show()\n"
   ]
  },
  {
   "cell_type": "code",
   "execution_count": 20,
   "metadata": {},
   "outputs": [],
   "source": [
    "# Variables to store the metrics scores\n",
    "models, acc, rec = [], [], []"
   ]
  },
  {
   "cell_type": "markdown",
   "metadata": {},
   "source": [
    "### Logistic Regression"
   ]
  },
  {
   "cell_type": "code",
   "execution_count": 21,
   "metadata": {},
   "outputs": [
    {
     "name": "stderr",
     "output_type": "stream",
     "text": [
      "C:\\Users\\Caio\\anaconda3\\lib\\site-packages\\sklearn\\linear_model\\_logistic.py:763: ConvergenceWarning: lbfgs failed to converge (status=1):\n",
      "STOP: TOTAL NO. of ITERATIONS REACHED LIMIT.\n",
      "\n",
      "Increase the number of iterations (max_iter) or scale the data as shown in:\n",
      "    https://scikit-learn.org/stable/modules/preprocessing.html\n",
      "Please also refer to the documentation for alternative solver options:\n",
      "    https://scikit-learn.org/stable/modules/linear_model.html#logistic-regression\n",
      "  n_iter_i = _check_optimize_result(\n",
      "C:\\Users\\Caio\\anaconda3\\lib\\site-packages\\sklearn\\linear_model\\_logistic.py:763: ConvergenceWarning: lbfgs failed to converge (status=1):\n",
      "STOP: TOTAL NO. of ITERATIONS REACHED LIMIT.\n",
      "\n",
      "Increase the number of iterations (max_iter) or scale the data as shown in:\n",
      "    https://scikit-learn.org/stable/modules/preprocessing.html\n",
      "Please also refer to the documentation for alternative solver options:\n",
      "    https://scikit-learn.org/stable/modules/linear_model.html#logistic-regression\n",
      "  n_iter_i = _check_optimize_result(\n",
      "C:\\Users\\Caio\\anaconda3\\lib\\site-packages\\sklearn\\linear_model\\_logistic.py:763: ConvergenceWarning: lbfgs failed to converge (status=1):\n",
      "STOP: TOTAL NO. of ITERATIONS REACHED LIMIT.\n",
      "\n",
      "Increase the number of iterations (max_iter) or scale the data as shown in:\n",
      "    https://scikit-learn.org/stable/modules/preprocessing.html\n",
      "Please also refer to the documentation for alternative solver options:\n",
      "    https://scikit-learn.org/stable/modules/linear_model.html#logistic-regression\n",
      "  n_iter_i = _check_optimize_result(\n",
      "C:\\Users\\Caio\\anaconda3\\lib\\site-packages\\sklearn\\linear_model\\_logistic.py:763: ConvergenceWarning: lbfgs failed to converge (status=1):\n",
      "STOP: TOTAL NO. of ITERATIONS REACHED LIMIT.\n",
      "\n",
      "Increase the number of iterations (max_iter) or scale the data as shown in:\n",
      "    https://scikit-learn.org/stable/modules/preprocessing.html\n",
      "Please also refer to the documentation for alternative solver options:\n",
      "    https://scikit-learn.org/stable/modules/linear_model.html#logistic-regression\n",
      "  n_iter_i = _check_optimize_result(\n",
      "C:\\Users\\Caio\\anaconda3\\lib\\site-packages\\sklearn\\linear_model\\_logistic.py:763: ConvergenceWarning: lbfgs failed to converge (status=1):\n",
      "STOP: TOTAL NO. of ITERATIONS REACHED LIMIT.\n",
      "\n",
      "Increase the number of iterations (max_iter) or scale the data as shown in:\n",
      "    https://scikit-learn.org/stable/modules/preprocessing.html\n",
      "Please also refer to the documentation for alternative solver options:\n",
      "    https://scikit-learn.org/stable/modules/linear_model.html#logistic-regression\n",
      "  n_iter_i = _check_optimize_result(\n",
      "C:\\Users\\Caio\\anaconda3\\lib\\site-packages\\sklearn\\metrics\\_classification.py:1248: UndefinedMetricWarning: Precision and F-score are ill-defined and being set to 0.0 in labels with no predicted samples. Use `zero_division` parameter to control this behavior.\n",
      "  _warn_prf(average, modifier, msg_start, len(result))\n",
      "C:\\Users\\Caio\\anaconda3\\lib\\site-packages\\sklearn\\metrics\\_classification.py:1248: UndefinedMetricWarning: Precision and F-score are ill-defined and being set to 0.0 in labels with no predicted samples. Use `zero_division` parameter to control this behavior.\n",
      "  _warn_prf(average, modifier, msg_start, len(result))\n"
     ]
    },
    {
     "name": "stdout",
     "output_type": "stream",
     "text": [
      "Classification report: \n",
      "               precision    recall  f1-score   support\n",
      "\n",
      "           0       0.88      1.00      0.93    334399\n",
      "           1       0.00      0.00      0.00     46710\n",
      "\n",
      "    accuracy                           0.88    381109\n",
      "   macro avg       0.44      0.50      0.47    381109\n",
      "weighted avg       0.77      0.88      0.82    381109\n",
      "\n"
     ]
    },
    {
     "name": "stderr",
     "output_type": "stream",
     "text": [
      "C:\\Users\\Caio\\anaconda3\\lib\\site-packages\\sklearn\\metrics\\_classification.py:1248: UndefinedMetricWarning: Precision and F-score are ill-defined and being set to 0.0 in labels with no predicted samples. Use `zero_division` parameter to control this behavior.\n",
      "  _warn_prf(average, modifier, msg_start, len(result))\n"
     ]
    }
   ],
   "source": [
    "lr = LogisticRegression()\n",
    "lr.fit(x, y)\n",
    "\n",
    "pred_lr = cross_val_predict(estimator=lr, X = x, y = y, cv = 5)\n",
    "data_extrac(pred_lr, 'Logistic Regretion', models, acc, rec, y)\n",
    "roc_calc_curve(pred_lr, y, 'LogisticRegression')"
   ]
  },
  {
   "cell_type": "markdown",
   "metadata": {},
   "source": [
    "### KNN"
   ]
  },
  {
   "cell_type": "code",
   "execution_count": 23,
   "metadata": {},
   "outputs": [
    {
     "name": "stdout",
     "output_type": "stream",
     "text": [
      "Classification report: \n",
      "               precision    recall  f1-score   support\n",
      "\n",
      "           0       0.88      0.97      0.92    334399\n",
      "           1       0.21      0.06      0.09     46710\n",
      "\n",
      "    accuracy                           0.86    381109\n",
      "   macro avg       0.55      0.51      0.51    381109\n",
      "weighted avg       0.80      0.86      0.82    381109\n",
      "\n"
     ]
    }
   ],
   "source": [
    "knn = KNeighborsClassifier()\n",
    "knn.fit(x, y)\n",
    "\n",
    "pred_knn = cross_val_predict(estimator=knn, X = x, y = y, cv=5)\n",
    "data_extrac(pred_knn, 'KNN', models, acc, rec, y)\n",
    "roc_calc_curve(pred_knn, y, 'KNN')"
   ]
  },
  {
   "cell_type": "markdown",
   "metadata": {},
   "source": [
    "### K-Means"
   ]
  },
  {
   "cell_type": "code",
   "execution_count": 24,
   "metadata": {},
   "outputs": [
    {
     "name": "stdout",
     "output_type": "stream",
     "text": [
      "Classification report: \n",
      "               precision    recall  f1-score   support\n",
      "\n",
      "           0       0.88      0.69      0.77    334399\n",
      "           1       0.12      0.32      0.18     46710\n",
      "\n",
      "    accuracy                           0.64    381109\n",
      "   macro avg       0.50      0.50      0.47    381109\n",
      "weighted avg       0.79      0.64      0.70    381109\n",
      "\n"
     ]
    }
   ],
   "source": [
    "km = KMeans(n_clusters=2)\n",
    "km.fit(x, y)\n",
    "\n",
    "pred_km = cross_val_predict(estimator=km, X = x, y = y, cv=5)\n",
    "data_extrac(pred_km, 'K-Means', models, acc, rec, y)\n",
    "roc_calc_curve(pred_km, y, 'K-Means')"
   ]
  },
  {
   "cell_type": "markdown",
   "metadata": {},
   "source": [
    "### Naive-Bayes"
   ]
  },
  {
   "cell_type": "code",
   "execution_count": 25,
   "metadata": {},
   "outputs": [
    {
     "name": "stdout",
     "output_type": "stream",
     "text": [
      "Classification report: \n",
      "               precision    recall  f1-score   support\n",
      "\n",
      "           0       0.91      0.88      0.90    334399\n",
      "           1       0.30      0.36      0.33     46710\n",
      "\n",
      "    accuracy                           0.82    381109\n",
      "   macro avg       0.61      0.62      0.61    381109\n",
      "weighted avg       0.83      0.82      0.83    381109\n",
      "\n"
     ]
    }
   ],
   "source": [
    "nb = GaussianNB()\n",
    "nb.fit(x, y)\n",
    "\n",
    "pred_nb = cross_val_predict(estimator=nb, X = x, y = y, cv=5)\n",
    "data_extrac(pred_nb, 'Naive-Bayes', models, acc, rec, y)\n",
    "roc_calc_curve(pred_nb, y, 'Naive-Bayes')"
   ]
  },
  {
   "cell_type": "markdown",
   "metadata": {},
   "source": [
    "### Decision Tree"
   ]
  },
  {
   "cell_type": "code",
   "execution_count": 26,
   "metadata": {},
   "outputs": [
    {
     "name": "stdout",
     "output_type": "stream",
     "text": [
      "Classification report: \n",
      "               precision    recall  f1-score   support\n",
      "\n",
      "           0       0.90      0.89      0.90    334399\n",
      "           1       0.29      0.31      0.30     46710\n",
      "\n",
      "    accuracy                           0.82    381109\n",
      "   macro avg       0.60      0.60      0.60    381109\n",
      "weighted avg       0.83      0.82      0.83    381109\n",
      "\n"
     ]
    }
   ],
   "source": [
    "dt = dtc()\n",
    "dt.fit(x, y)\n",
    "\n",
    "pred_dt = cross_val_predict(estimator=dt, X = x, y = y, cv=5)\n",
    "data_extrac(pred_dt, 'Decision Tree', models, acc, rec, y)\n",
    "roc_calc_curve(pred_dt, y, 'Decision Tree')"
   ]
  },
  {
   "cell_type": "markdown",
   "metadata": {},
   "source": [
    "### Random Forest"
   ]
  },
  {
   "cell_type": "code",
   "execution_count": 27,
   "metadata": {},
   "outputs": [
    {
     "name": "stdout",
     "output_type": "stream",
     "text": [
      "Classification report: \n",
      "               precision    recall  f1-score   support\n",
      "\n",
      "           0       0.89      0.97      0.93    334399\n",
      "           1       0.36      0.12      0.18     46710\n",
      "\n",
      "    accuracy                           0.87    381109\n",
      "   macro avg       0.63      0.55      0.55    381109\n",
      "weighted avg       0.82      0.87      0.84    381109\n",
      "\n"
     ]
    }
   ],
   "source": [
    "rf = rfc()\n",
    "rf.fit(x, y)\n",
    "\n",
    "pred_rf = cross_val_predict(estimator=rf, X = x, y = y, cv=5)\n",
    "data_extrac(pred_rf, 'Random Forest', models, acc, rec, y)\n",
    "roc_calc_curve(pred_rf, y, 'Random Forest')"
   ]
  },
  {
   "cell_type": "markdown",
   "metadata": {},
   "source": [
    "### XGBOOST"
   ]
  },
  {
   "cell_type": "code",
   "execution_count": 28,
   "metadata": {},
   "outputs": [
    {
     "name": "stderr",
     "output_type": "stream",
     "text": [
      "C:\\Users\\Caio\\anaconda3\\lib\\site-packages\\xgboost\\sklearn.py:1146: UserWarning: The use of label encoder in XGBClassifier is deprecated and will be removed in a future release. To remove this warning, do the following: 1) Pass option use_label_encoder=False when constructing XGBClassifier object; and 2) Encode your labels (y) as integers starting with 0, i.e. 0, 1, 2, ..., [num_class - 1].\n",
      "  warnings.warn(label_encoder_deprecation_msg, UserWarning)\n",
      "C:\\Users\\Caio\\anaconda3\\lib\\site-packages\\xgboost\\sklearn.py:1146: UserWarning: The use of label encoder in XGBClassifier is deprecated and will be removed in a future release. To remove this warning, do the following: 1) Pass option use_label_encoder=False when constructing XGBClassifier object; and 2) Encode your labels (y) as integers starting with 0, i.e. 0, 1, 2, ..., [num_class - 1].\n",
      "  warnings.warn(label_encoder_deprecation_msg, UserWarning)\n"
     ]
    },
    {
     "name": "stdout",
     "output_type": "stream",
     "text": [
      "[22:56:21] WARNING: C:/Users/Administrator/workspace/xgboost-win64_release_1.4.0/src/learner.cc:1095: Starting in XGBoost 1.3.0, the default evaluation metric used with the objective 'binary:logistic' was changed from 'error' to 'logloss'. Explicitly set eval_metric if you'd like to restore the old behavior.\n"
     ]
    },
    {
     "name": "stderr",
     "output_type": "stream",
     "text": [
      "C:\\Users\\Caio\\anaconda3\\lib\\site-packages\\xgboost\\sklearn.py:1146: UserWarning: The use of label encoder in XGBClassifier is deprecated and will be removed in a future release. To remove this warning, do the following: 1) Pass option use_label_encoder=False when constructing XGBClassifier object; and 2) Encode your labels (y) as integers starting with 0, i.e. 0, 1, 2, ..., [num_class - 1].\n",
      "  warnings.warn(label_encoder_deprecation_msg, UserWarning)\n"
     ]
    },
    {
     "name": "stdout",
     "output_type": "stream",
     "text": [
      "[22:56:52] WARNING: C:/Users/Administrator/workspace/xgboost-win64_release_1.4.0/src/learner.cc:1095: Starting in XGBoost 1.3.0, the default evaluation metric used with the objective 'binary:logistic' was changed from 'error' to 'logloss'. Explicitly set eval_metric if you'd like to restore the old behavior.\n"
     ]
    },
    {
     "name": "stderr",
     "output_type": "stream",
     "text": [
      "C:\\Users\\Caio\\anaconda3\\lib\\site-packages\\xgboost\\sklearn.py:1146: UserWarning: The use of label encoder in XGBClassifier is deprecated and will be removed in a future release. To remove this warning, do the following: 1) Pass option use_label_encoder=False when constructing XGBClassifier object; and 2) Encode your labels (y) as integers starting with 0, i.e. 0, 1, 2, ..., [num_class - 1].\n",
      "  warnings.warn(label_encoder_deprecation_msg, UserWarning)\n"
     ]
    },
    {
     "name": "stdout",
     "output_type": "stream",
     "text": [
      "[22:57:22] WARNING: C:/Users/Administrator/workspace/xgboost-win64_release_1.4.0/src/learner.cc:1095: Starting in XGBoost 1.3.0, the default evaluation metric used with the objective 'binary:logistic' was changed from 'error' to 'logloss'. Explicitly set eval_metric if you'd like to restore the old behavior.\n"
     ]
    },
    {
     "name": "stderr",
     "output_type": "stream",
     "text": [
      "C:\\Users\\Caio\\anaconda3\\lib\\site-packages\\xgboost\\sklearn.py:1146: UserWarning: The use of label encoder in XGBClassifier is deprecated and will be removed in a future release. To remove this warning, do the following: 1) Pass option use_label_encoder=False when constructing XGBClassifier object; and 2) Encode your labels (y) as integers starting with 0, i.e. 0, 1, 2, ..., [num_class - 1].\n",
      "  warnings.warn(label_encoder_deprecation_msg, UserWarning)\n"
     ]
    },
    {
     "name": "stdout",
     "output_type": "stream",
     "text": [
      "[22:57:51] WARNING: C:/Users/Administrator/workspace/xgboost-win64_release_1.4.0/src/learner.cc:1095: Starting in XGBoost 1.3.0, the default evaluation metric used with the objective 'binary:logistic' was changed from 'error' to 'logloss'. Explicitly set eval_metric if you'd like to restore the old behavior.\n"
     ]
    },
    {
     "name": "stderr",
     "output_type": "stream",
     "text": [
      "C:\\Users\\Caio\\anaconda3\\lib\\site-packages\\xgboost\\sklearn.py:1146: UserWarning: The use of label encoder in XGBClassifier is deprecated and will be removed in a future release. To remove this warning, do the following: 1) Pass option use_label_encoder=False when constructing XGBClassifier object; and 2) Encode your labels (y) as integers starting with 0, i.e. 0, 1, 2, ..., [num_class - 1].\n",
      "  warnings.warn(label_encoder_deprecation_msg, UserWarning)\n"
     ]
    },
    {
     "name": "stdout",
     "output_type": "stream",
     "text": [
      "[22:58:21] WARNING: C:/Users/Administrator/workspace/xgboost-win64_release_1.4.0/src/learner.cc:1095: Starting in XGBoost 1.3.0, the default evaluation metric used with the objective 'binary:logistic' was changed from 'error' to 'logloss'. Explicitly set eval_metric if you'd like to restore the old behavior.\n",
      "Classification report: \n",
      "               precision    recall  f1-score   support\n",
      "\n",
      "           0       0.88      1.00      0.93    334399\n",
      "           1       0.46      0.03      0.05     46710\n",
      "\n",
      "    accuracy                           0.88    381109\n",
      "   macro avg       0.67      0.51      0.49    381109\n",
      "weighted avg       0.83      0.88      0.83    381109\n",
      "\n"
     ]
    }
   ],
   "source": [
    "xgb_model = xgb()\n",
    "xgb_model.fit(x, y, eval_metric='mlogloss')\n",
    "\n",
    "pred_xgb = cross_val_predict(estimator=xgb_model, X = x, y = y, cv=5)\n",
    "data_extrac(pred_xgb, 'XGBOOST', models, acc, rec, y)\n",
    "roc_calc_curve(pred_xgb, y, 'XGBOOST')"
   ]
  },
  {
   "cell_type": "markdown",
   "metadata": {},
   "source": [
    "### Metrics comparison (Adicionar um titulo geral de indicando a base de dados)"
   ]
  },
  {
   "cell_type": "code",
   "execution_count": 29,
   "metadata": {},
   "outputs": [
    {
     "data": {
      "text/plain": [
       "([0, 1, 2, 3, 4, 5, 6], <a list of 7 Text major ticklabel objects>)"
      ]
     },
     "execution_count": 29,
     "metadata": {},
     "output_type": "execute_result"
    },
    {
     "data": {
      "image/png": "[encoded data removed]",
      "text/plain": [
       "<Figure size 864x432 with 2 Axes>"
      ]
     },
     "metadata": {
      "needs_background": "light"
     },
     "output_type": "display_data"
    }
   ],
   "source": [
    "# Figure that compares de metrics of each model\n",
    "plt.figure(figsize=(12, 6))\n",
    "\n",
    "plt.subplot(1, 2, 1)\n",
    "plt.scatter(models, acc, marker = '*', s=80)\n",
    "plt.plot(models, acc, 'b--', color='gray')\n",
    "plt.title('Accuracy comparison')\n",
    "plt.ylabel('Accuracy')\n",
    "plt.yticks(np.arange(0.2, 1.01, 0.1))\n",
    "plt.xticks(rotation=45, ha='right')\n",
    "\n",
    "plt.subplot(1, 2, 2)\n",
    "plt.scatter(models, rec, marker = '*', s=80)\n",
    "plt.plot(models, rec, 'b--', color='gray')\n",
    "plt.title('Recall comparison')\n",
    "plt.ylabel('Recall')\n",
    "plt.yticks(np.arange(0, 1.01, 0.1))\n",
    "plt.xticks(rotation=45, ha='right')"
   ]
  },
  {
   "cell_type": "markdown",
   "metadata": {},
   "source": [
    "#### Developin the models with the dataset with Mutual Information."
   ]
  },
  {
   "cell_type": "code",
   "execution_count": 30,
   "metadata": {},
   "outputs": [],
   "source": [
    "# Variables used to store metrics scores\n",
    "models1, acc1, rec1 = [], [], []"
   ]
  },
  {
   "cell_type": "markdown",
   "metadata": {},
   "source": [
    "### Logistic Regression"
   ]
  },
  {
   "cell_type": "code",
   "execution_count": 31,
   "metadata": {},
   "outputs": [
    {
     "name": "stderr",
     "output_type": "stream",
     "text": [
      "C:\\Users\\Caio\\anaconda3\\lib\\site-packages\\sklearn\\linear_model\\_logistic.py:763: ConvergenceWarning: lbfgs failed to converge (status=1):\n",
      "STOP: TOTAL NO. of ITERATIONS REACHED LIMIT.\n",
      "\n",
      "Increase the number of iterations (max_iter) or scale the data as shown in:\n",
      "    https://scikit-learn.org/stable/modules/preprocessing.html\n",
      "Please also refer to the documentation for alternative solver options:\n",
      "    https://scikit-learn.org/stable/modules/linear_model.html#logistic-regression\n",
      "  n_iter_i = _check_optimize_result(\n",
      "C:\\Users\\Caio\\anaconda3\\lib\\site-packages\\sklearn\\linear_model\\_logistic.py:763: ConvergenceWarning: lbfgs failed to converge (status=1):\n",
      "STOP: TOTAL NO. of ITERATIONS REACHED LIMIT.\n",
      "\n",
      "Increase the number of iterations (max_iter) or scale the data as shown in:\n",
      "    https://scikit-learn.org/stable/modules/preprocessing.html\n",
      "Please also refer to the documentation for alternative solver options:\n",
      "    https://scikit-learn.org/stable/modules/linear_model.html#logistic-regression\n",
      "  n_iter_i = _check_optimize_result(\n",
      "C:\\Users\\Caio\\anaconda3\\lib\\site-packages\\sklearn\\linear_model\\_logistic.py:763: ConvergenceWarning: lbfgs failed to converge (status=1):\n",
      "STOP: TOTAL NO. of ITERATIONS REACHED LIMIT.\n",
      "\n",
      "Increase the number of iterations (max_iter) or scale the data as shown in:\n",
      "    https://scikit-learn.org/stable/modules/preprocessing.html\n",
      "Please also refer to the documentation for alternative solver options:\n",
      "    https://scikit-learn.org/stable/modules/linear_model.html#logistic-regression\n",
      "  n_iter_i = _check_optimize_result(\n",
      "C:\\Users\\Caio\\anaconda3\\lib\\site-packages\\sklearn\\linear_model\\_logistic.py:763: ConvergenceWarning: lbfgs failed to converge (status=1):\n",
      "STOP: TOTAL NO. of ITERATIONS REACHED LIMIT.\n",
      "\n",
      "Increase the number of iterations (max_iter) or scale the data as shown in:\n",
      "    https://scikit-learn.org/stable/modules/preprocessing.html\n",
      "Please also refer to the documentation for alternative solver options:\n",
      "    https://scikit-learn.org/stable/modules/linear_model.html#logistic-regression\n",
      "  n_iter_i = _check_optimize_result(\n",
      "C:\\Users\\Caio\\anaconda3\\lib\\site-packages\\sklearn\\linear_model\\_logistic.py:763: ConvergenceWarning: lbfgs failed to converge (status=1):\n",
      "STOP: TOTAL NO. of ITERATIONS REACHED LIMIT.\n",
      "\n",
      "Increase the number of iterations (max_iter) or scale the data as shown in:\n",
      "    https://scikit-learn.org/stable/modules/preprocessing.html\n",
      "Please also refer to the documentation for alternative solver options:\n",
      "    https://scikit-learn.org/stable/modules/linear_model.html#logistic-regression\n",
      "  n_iter_i = _check_optimize_result(\n",
      "C:\\Users\\Caio\\anaconda3\\lib\\site-packages\\sklearn\\linear_model\\_logistic.py:763: ConvergenceWarning: lbfgs failed to converge (status=1):\n",
      "STOP: TOTAL NO. of ITERATIONS REACHED LIMIT.\n",
      "\n",
      "Increase the number of iterations (max_iter) or scale the data as shown in:\n",
      "    https://scikit-learn.org/stable/modules/preprocessing.html\n",
      "Please also refer to the documentation for alternative solver options:\n",
      "    https://scikit-learn.org/stable/modules/linear_model.html#logistic-regression\n",
      "  n_iter_i = _check_optimize_result(\n"
     ]
    },
    {
     "name": "stdout",
     "output_type": "stream",
     "text": [
      "Classification report: \n",
      "               precision    recall  f1-score   support\n",
      "\n",
      "           0       0.88      1.00      0.93    334399\n",
      "           1       0.34      0.00      0.01     46710\n",
      "\n",
      "    accuracy                           0.88    381109\n",
      "   macro avg       0.61      0.50      0.47    381109\n",
      "weighted avg       0.81      0.88      0.82    381109\n",
      "\n"
     ]
    }
   ],
   "source": [
    "lr_mi = LogisticRegression()\n",
    "lr_mi.fit(x1, y)\n",
    "\n",
    "pred_lr1 = cross_val_predict(estimator=lr_mi, X = x1, y = y, cv=5)\n",
    "data_extrac(pred_lr1, 'Logistic Regretion', models1, acc1, rec1, y)\n",
    "roc_calc_curve(pred_lr1, y, 'LogisticRegression')"
   ]
  },
  {
   "cell_type": "markdown",
   "metadata": {},
   "source": [
    "### KNN"
   ]
  },
  {
   "cell_type": "code",
   "execution_count": 32,
   "metadata": {},
   "outputs": [
    {
     "name": "stdout",
     "output_type": "stream",
     "text": [
      "Classification report: \n",
      "               precision    recall  f1-score   support\n",
      "\n",
      "           0       0.89      0.95      0.92    334399\n",
      "           1       0.34      0.17      0.23     46710\n",
      "\n",
      "    accuracy                           0.86    381109\n",
      "   macro avg       0.61      0.56      0.57    381109\n",
      "weighted avg       0.82      0.86      0.84    381109\n",
      "\n"
     ]
    }
   ],
   "source": [
    "knn_mi = KNeighborsClassifier()\n",
    "knn_mi.fit(x1, y)\n",
    "\n",
    "pred_knn1 = cross_val_predict(estimator=knn_mi, X = x1, y = y, cv=5)\n",
    "data_extrac(pred_knn1, 'KNN', models1, acc1, rec1, y)\n",
    "roc_calc_curve(pred_knn1, y, 'KNN')"
   ]
  },
  {
   "cell_type": "markdown",
   "metadata": {},
   "source": [
    "### K-Means"
   ]
  },
  {
   "cell_type": "code",
   "execution_count": 33,
   "metadata": {},
   "outputs": [
    {
     "name": "stdout",
     "output_type": "stream",
     "text": [
      "Classification report: \n",
      "               precision    recall  f1-score   support\n",
      "\n",
      "           0       0.89      0.65      0.75    334399\n",
      "           1       0.15      0.44      0.22     46710\n",
      "\n",
      "    accuracy                           0.62    381109\n",
      "   macro avg       0.52      0.54      0.49    381109\n",
      "weighted avg       0.80      0.62      0.69    381109\n",
      "\n"
     ]
    }
   ],
   "source": [
    "km_mi = KMeans(n_clusters=2)\n",
    "km_mi.fit(x1, y)\n",
    "\n",
    "pred_km1 = cross_val_predict(estimator=km_mi, X = x1, y = y, cv=5)\n",
    "data_extrac(pred_km1, 'K-Means', models1, acc1, rec1, y)\n",
    "roc_calc_curve(pred_km1, y, 'K-Means')"
   ]
  },
  {
   "cell_type": "markdown",
   "metadata": {},
   "source": [
    "### Naive-Bayes"
   ]
  },
  {
   "cell_type": "code",
   "execution_count": 34,
   "metadata": {},
   "outputs": [
    {
     "name": "stdout",
     "output_type": "stream",
     "text": [
      "Classification report: \n",
      "               precision    recall  f1-score   support\n",
      "\n",
      "           0       0.99      0.59      0.74    334399\n",
      "           1       0.25      0.98      0.40     46710\n",
      "\n",
      "    accuracy                           0.64    381109\n",
      "   macro avg       0.62      0.78      0.57    381109\n",
      "weighted avg       0.90      0.64      0.70    381109\n",
      "\n"
     ]
    }
   ],
   "source": [
    "nb_mi = GaussianNB()\n",
    "nb_mi.fit(x1, y)\n",
    "\n",
    "pred_nb1 = cross_val_predict(estimator=nb_mi, X = x1, y = y, cv=5)\n",
    "data_extrac(pred_nb1, 'Naive-Bayes', models1, acc1, rec1, y)\n",
    "roc_calc_curve(pred_nb1, y, 'Naive-Bayes')"
   ]
  },
  {
   "cell_type": "markdown",
   "metadata": {},
   "source": [
    "### Decision Tree"
   ]
  },
  {
   "cell_type": "code",
   "execution_count": 35,
   "metadata": {},
   "outputs": [
    {
     "name": "stdout",
     "output_type": "stream",
     "text": [
      "Classification report: \n",
      "               precision    recall  f1-score   support\n",
      "\n",
      "           0       0.89      0.97      0.92    334399\n",
      "           1       0.32      0.11      0.17     46710\n",
      "\n",
      "    accuracy                           0.86    381109\n",
      "   macro avg       0.60      0.54      0.55    381109\n",
      "weighted avg       0.82      0.86      0.83    381109\n",
      "\n"
     ]
    }
   ],
   "source": [
    "dt_mi = dtc()\n",
    "dt_mi.fit(x1, y)\n",
    "\n",
    "pred_dt1 = cross_val_predict(estimator=dt_mi, X = x1, y = y, cv=5)\n",
    "data_extrac(pred_dt1, 'Decision Tree', models1, acc1, rec1, y)\n",
    "roc_calc_curve(pred_dt1, y, 'Decision Tree')"
   ]
  },
  {
   "cell_type": "markdown",
   "metadata": {},
   "source": [
    "### Random Forest"
   ]
  },
  {
   "cell_type": "code",
   "execution_count": 36,
   "metadata": {},
   "outputs": [
    {
     "name": "stdout",
     "output_type": "stream",
     "text": [
      "Classification report: \n",
      "               precision    recall  f1-score   support\n",
      "\n",
      "           0       0.89      0.97      0.93    334399\n",
      "           1       0.34      0.12      0.18     46710\n",
      "\n",
      "    accuracy                           0.86    381109\n",
      "   macro avg       0.62      0.55      0.55    381109\n",
      "weighted avg       0.82      0.86      0.83    381109\n",
      "\n"
     ]
    }
   ],
   "source": [
    "rf_mi = rfc()\n",
    "rf_mi.fit(x1, y)\n",
    "\n",
    "pred_rf1 = cross_val_predict(estimator= rf_mi, X = x1, y = y, cv = 5)\n",
    "data_extrac(pred_rf1, 'Random Forest', models1, acc1, rec1, y)\n",
    "roc_calc_curve(pred_rf1, y, 'Random Forest')"
   ]
  },
  {
   "cell_type": "code",
   "execution_count": 37,
   "metadata": {},
   "outputs": [
    {
     "data": {
      "text/plain": [
       "([0, 1, 2, 3, 4, 5], <a list of 6 Text major ticklabel objects>)"
      ]
     },
     "execution_count": 37,
     "metadata": {},
     "output_type": "execute_result"
    },
    {
     "data": {
      "image/png": "[encoded data removed]",
      "text/plain": [
       "<Figure size 864x432 with 2 Axes>"
      ]
     },
     "metadata": {
      "needs_background": "light"
     },
     "output_type": "display_data"
    }
   ],
   "source": [
    "# Figure that compares de metrics of each model with multual information\n",
    "plt.figure(figsize=(12, 6))\n",
    "\n",
    "plt.subplot(1, 2, 1)\n",
    "plt.scatter(models1, acc1, marker = '*', s=80)\n",
    "plt.plot(models1, acc1, 'b--', color='gray')\n",
    "plt.title('Accuracy comparison')\n",
    "plt.ylabel('Accuracy')\n",
    "plt.yticks(np.arange(0.2, 1.01, 0.1))\n",
    "plt.xticks(rotation=45, ha='right')\n",
    "\n",
    "plt.subplot(1, 2, 2)\n",
    "plt.scatter(models1, rec1, marker = '*', s=80)\n",
    "plt.plot(models1, rec1, 'b--', color='gray')\n",
    "plt.title('Recall comparison')\n",
    "plt.ylabel('Recall')\n",
    "plt.yticks(np.arange(0, 1.01, 0.1))\n",
    "plt.xticks(rotation=45, ha='right')"
   ]
  },
  {
   "cell_type": "code",
   "execution_count": 38,
   "metadata": {},
   "outputs": [
    {
     "data": {
      "text/plain": [
       "([0, 1, 2, 3, 4, 5, 6], <a list of 7 Text major ticklabel objects>)"
      ]
     },
     "execution_count": 38,
     "metadata": {},
     "output_type": "execute_result"
    },
    {
     "data": {
      "image/png": "[encoded data removed]",
      "text/plain": [
       "<Figure size 864x432 with 2 Axes>"
      ]
     },
     "metadata": {
      "needs_background": "light"
     },
     "output_type": "display_data"
    }
   ],
   "source": [
    "# Figure that compares de metrics of all models\n",
    "plt.figure(figsize=(12, 6))\n",
    "\n",
    "plt.subplot(1, 2, 1)\n",
    "plt.scatter(models, acc, marker = 'o', s=80)\n",
    "plt.plot(models, acc, 'b--', color='red')\n",
    "plt.scatter(models1, acc1, marker = '*', s=80)\n",
    "plt.plot(models1, acc1, 'b--', color='gray')\n",
    "plt.legend(('All data', 'MI applyed'), loc='upper left', shadow=True)\n",
    "plt.title('Accuracy comparison')\n",
    "plt.ylabel('Accuracy')\n",
    "plt.yticks(np.arange(0.2, 1.01, 0.1))\n",
    "plt.xticks(rotation=45, ha='right')\n",
    "\n",
    "plt.subplot(1, 2, 2)\n",
    "plt.scatter(models, rec, marker = 'o', s=80)\n",
    "plt.plot(models, rec, 'b--', color='red')\n",
    "plt.scatter(models1, rec1, marker = '*', s=80)\n",
    "plt.plot(models1, rec1, 'b--', color='gray')\n",
    "plt.legend(('All data', 'MI applyed'), loc='upper left', shadow=True)\n",
    "plt.title('Recall comparison')\n",
    "plt.ylabel('Recall')\n",
    "plt.yticks(np.arange(0, 1.01, 0.1))\n",
    "plt.xticks(rotation=45, ha='right')"
   ]
  },
  {
   "cell_type": "code",
   "execution_count": null,
   "metadata": {},
   "outputs": [],
   "source": []
  },
  {
   "cell_type": "code",
   "execution_count": null,
   "metadata": {},
   "outputs": [],
   "source": []
  }
 ],
 "metadata": {
  "kernelspec": {
   "display_name": "Python 3",
   "language": "python",
   "name": "python3"
  },
  "language_info": {
   "codemirror_mode": {
    "name": "ipython",
    "version": 3
   },
   "file_extension": ".py",
   "mimetype": "text/x-python",
   "name": "python",
   "nbconvert_exporter": "python",
   "pygments_lexer": "ipython3",
   "version": "3.8.3"
  },
  "varInspector": {
   "cols": {
    "lenName": 16,
    "lenType": 16,
    "lenVar": 40
   },
   "kernels_config": {
    "python": {
     "delete_cmd_postfix": "",
     "delete_cmd_prefix": "del ",
     "library": "var_list.py",
     "varRefreshCmd": "print(var_dic_list())"
    },
    "r": {
     "delete_cmd_postfix": ") ",
     "delete_cmd_prefix": "rm(",
     "library": "var_list.r",
     "varRefreshCmd": "cat(var_dic_list()) "
    }
   },
   "types_to_exclude": [
    "module",
    "function",
    "builtin_function_or_method",
    "instance",
    "_Feature"
   ],
   "window_display": false
  }
 },
 "nbformat": 4,
 "nbformat_minor": 4
}
